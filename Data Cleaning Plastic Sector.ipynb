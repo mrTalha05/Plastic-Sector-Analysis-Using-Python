{
 "cells": [
  {
   "cell_type": "code",
   "execution_count": 1,
   "id": "1f258006",
   "metadata": {},
   "outputs": [],
   "source": [
    "import pandas as pd\n",
    "import numpy as np\n",
    "import seaborn as sns\n",
    "import datetime as dt\n",
    "import seaborn as sns\n",
    "import matplotlib.pyplot as plt\n",
    "import re\n",
    "import warnings\n",
    "warnings.filterwarnings(\"ignore\")"
   ]
  },
  {
   "cell_type": "code",
   "execution_count": 2,
   "id": "719a620f",
   "metadata": {},
   "outputs": [],
   "source": [
    "data = pd.read_excel(\"C:\\\\Users\\\\talha\\\\Desktop\\\\NSE new\\\\Plastic Products.xlsx\")"
   ]
  },
  {
   "cell_type": "code",
   "execution_count": 3,
   "id": "04c25fe8",
   "metadata": {},
   "outputs": [
    {
     "data": {
      "text/html": [
       "<div>\n",
       "<style scoped>\n",
       "    .dataframe tbody tr th:only-of-type {\n",
       "        vertical-align: middle;\n",
       "    }\n",
       "\n",
       "    .dataframe tbody tr th {\n",
       "        vertical-align: top;\n",
       "    }\n",
       "\n",
       "    .dataframe thead th {\n",
       "        text-align: right;\n",
       "    }\n",
       "</style>\n",
       "<table border=\"1\" class=\"dataframe\">\n",
       "  <thead>\n",
       "    <tr style=\"text-align: right;\">\n",
       "      <th></th>\n",
       "      <th>Company Name</th>\n",
       "      <th>Industry</th>\n",
       "      <th>Date</th>\n",
       "      <th>Price</th>\n",
       "      <th>Open</th>\n",
       "      <th>High</th>\n",
       "      <th>Low</th>\n",
       "      <th>Volume</th>\n",
       "      <th>Chg%</th>\n",
       "    </tr>\n",
       "  </thead>\n",
       "  <tbody>\n",
       "    <tr>\n",
       "      <th>0</th>\n",
       "      <td>Supreme Industries Ltd</td>\n",
       "      <td>Plastic</td>\n",
       "      <td>Nov 30, 2023</td>\n",
       "      <td>4431.15</td>\n",
       "      <td>4109.80</td>\n",
       "      <td>4593.9</td>\n",
       "      <td>4089.00</td>\n",
       "      <td>1.28M</td>\n",
       "      <td>0.0752</td>\n",
       "    </tr>\n",
       "    <tr>\n",
       "      <th>1</th>\n",
       "      <td>Supreme Industries Ltd</td>\n",
       "      <td>Plastic</td>\n",
       "      <td>Nov 29, 2023</td>\n",
       "      <td>4121.30</td>\n",
       "      <td>4140.00</td>\n",
       "      <td>4237.0</td>\n",
       "      <td>4100.00</td>\n",
       "      <td>180.84K</td>\n",
       "      <td>-0.0005</td>\n",
       "    </tr>\n",
       "    <tr>\n",
       "      <th>2</th>\n",
       "      <td>Supreme Industries Ltd</td>\n",
       "      <td>Plastic</td>\n",
       "      <td>Nov 28, 2023</td>\n",
       "      <td>4123.25</td>\n",
       "      <td>4149.95</td>\n",
       "      <td>4191.2</td>\n",
       "      <td>4074.05</td>\n",
       "      <td>235.64K</td>\n",
       "      <td>-0.0015</td>\n",
       "    </tr>\n",
       "    <tr>\n",
       "      <th>3</th>\n",
       "      <td>Supreme Industries Ltd</td>\n",
       "      <td>Plastic</td>\n",
       "      <td>Nov 24, 2023</td>\n",
       "      <td>4129.25</td>\n",
       "      <td>4055.05</td>\n",
       "      <td>4165.2</td>\n",
       "      <td>4036.00</td>\n",
       "      <td>143.21K</td>\n",
       "      <td>0.0044</td>\n",
       "    </tr>\n",
       "    <tr>\n",
       "      <th>4</th>\n",
       "      <td>Supreme Industries Ltd</td>\n",
       "      <td>Plastic</td>\n",
       "      <td>Nov 23, 2023</td>\n",
       "      <td>4111.05</td>\n",
       "      <td>4100.00</td>\n",
       "      <td>4130.0</td>\n",
       "      <td>4080.05</td>\n",
       "      <td>56.11K</td>\n",
       "      <td>0.0077</td>\n",
       "    </tr>\n",
       "  </tbody>\n",
       "</table>\n",
       "</div>"
      ],
      "text/plain": [
       "             Company Name  Industry          Date    Price     Open    High  \\\n",
       "0  Supreme Industries Ltd  Plastic   Nov 30, 2023  4431.15  4109.80  4593.9   \n",
       "1  Supreme Industries Ltd  Plastic   Nov 29, 2023  4121.30  4140.00  4237.0   \n",
       "2  Supreme Industries Ltd  Plastic   Nov 28, 2023  4123.25  4149.95  4191.2   \n",
       "3  Supreme Industries Ltd  Plastic   Nov 24, 2023  4129.25  4055.05  4165.2   \n",
       "4  Supreme Industries Ltd  Plastic   Nov 23, 2023  4111.05  4100.00  4130.0   \n",
       "\n",
       "       Low   Volume    Chg%  \n",
       "0  4089.00    1.28M  0.0752  \n",
       "1  4100.00  180.84K -0.0005  \n",
       "2  4074.05  235.64K -0.0015  \n",
       "3  4036.00  143.21K  0.0044  \n",
       "4  4080.05   56.11K  0.0077  "
      ]
     },
     "execution_count": 3,
     "metadata": {},
     "output_type": "execute_result"
    }
   ],
   "source": [
    "data.head()"
   ]
  },
  {
   "cell_type": "code",
   "execution_count": 4,
   "id": "17706f82",
   "metadata": {},
   "outputs": [
    {
     "name": "stdout",
     "output_type": "stream",
     "text": [
      "<class 'pandas.core.frame.DataFrame'>\n",
      "RangeIndex: 9796 entries, 0 to 9795\n",
      "Data columns (total 9 columns):\n",
      " #   Column        Non-Null Count  Dtype  \n",
      "---  ------        --------------  -----  \n",
      " 0   Company Name  9796 non-null   object \n",
      " 1   Industry      9796 non-null   object \n",
      " 2   Date          9796 non-null   object \n",
      " 3   Price         9796 non-null   float64\n",
      " 4   Open          9796 non-null   float64\n",
      " 5   High          9796 non-null   float64\n",
      " 6   Low           9796 non-null   float64\n",
      " 7   Volume        9796 non-null   object \n",
      " 8   Chg%          9796 non-null   float64\n",
      "dtypes: float64(5), object(4)\n",
      "memory usage: 688.9+ KB\n"
     ]
    }
   ],
   "source": [
    "data.info()"
   ]
  },
  {
   "cell_type": "markdown",
   "id": "749a6408",
   "metadata": {},
   "source": [
    "### Data Cleaning"
   ]
  },
  {
   "cell_type": "code",
   "execution_count": 5,
   "id": "c9377159",
   "metadata": {},
   "outputs": [],
   "source": [
    "#Removing unwanted char from date columns\n",
    "data['Date'] = data['Date'].str.replace(r'\\s[A-Z]', '', regex=True)"
   ]
  },
  {
   "cell_type": "code",
   "execution_count": 6,
   "id": "04e74e4d",
   "metadata": {},
   "outputs": [],
   "source": [
    "#formating date columns\n",
    "def extract_date_parts(date_str):\n",
    "    # Check if the input is already a Timestamp object\n",
    "    if isinstance(date_str, pd.Timestamp):\n",
    "        return date_str.strftime('%Y-%m-%d')\n",
    "\n",
    "    # Useing regular expressions to extract month, day, and year\n",
    "    match = re.match(r'([a-zA-Z]+)\\s+(\\d+)\\s+(\\d+)', str(date_str))\n",
    "    if match:\n",
    "        month_name, day, year = match.groups()\n",
    "        months_dict = {'Jan': '01', 'Feb': '02', 'Mar': '03', 'Apr': '04', 'May': '05', 'Jun': '06',\n",
    "                       'Jul': '07', 'Aug': '08', 'Sep': '09', 'Oct': '10', 'Nov': '11', 'Dec': '12'}\n",
    "        month = months_dict.get(month_name, month_name)\n",
    "        return f\"{year}-{month}-{day}\"\n",
    "\n",
    "    return str(date_str)\n",
    "\n",
    "# Apply the function to clean and convert the 'Date' column\n",
    "data['Date'] = data['Date'].apply(extract_date_parts)\n",
    "data['Date'] = pd.to_datetime(data['Date'], errors='coerce')"
   ]
  },
  {
   "cell_type": "code",
   "execution_count": 7,
   "id": "a4a29c02",
   "metadata": {},
   "outputs": [],
   "source": [
    "#Conversion of \"Volume\" column\n",
    "def conv(s):\n",
    "    if 'M' in str(s):\n",
    "        return float(str(s).replace('M', '')) * 1000000\n",
    "    elif 'K' in str(s):\n",
    "        return float(str(s).replace('K', '')) * 1000"
   ]
  },
  {
   "cell_type": "code",
   "execution_count": 8,
   "id": "b3447a82",
   "metadata": {},
   "outputs": [],
   "source": [
    "data[\"Volume\"] = data[\"Volume\"].apply(conv)"
   ]
  },
  {
   "cell_type": "code",
   "execution_count": 9,
   "id": "cdff98bc",
   "metadata": {},
   "outputs": [
    {
     "data": {
      "text/html": [
       "<div>\n",
       "<style scoped>\n",
       "    .dataframe tbody tr th:only-of-type {\n",
       "        vertical-align: middle;\n",
       "    }\n",
       "\n",
       "    .dataframe tbody tr th {\n",
       "        vertical-align: top;\n",
       "    }\n",
       "\n",
       "    .dataframe thead th {\n",
       "        text-align: right;\n",
       "    }\n",
       "</style>\n",
       "<table border=\"1\" class=\"dataframe\">\n",
       "  <thead>\n",
       "    <tr style=\"text-align: right;\">\n",
       "      <th></th>\n",
       "      <th>Company Name</th>\n",
       "      <th>Industry</th>\n",
       "      <th>Date</th>\n",
       "      <th>Price</th>\n",
       "      <th>Open</th>\n",
       "      <th>High</th>\n",
       "      <th>Low</th>\n",
       "      <th>Volume</th>\n",
       "      <th>Chg%</th>\n",
       "    </tr>\n",
       "  </thead>\n",
       "  <tbody>\n",
       "    <tr>\n",
       "      <th>0</th>\n",
       "      <td>Supreme Industries Ltd</td>\n",
       "      <td>Plastic</td>\n",
       "      <td>2023-11-30</td>\n",
       "      <td>4431.15</td>\n",
       "      <td>4109.80</td>\n",
       "      <td>4593.9</td>\n",
       "      <td>4089.00</td>\n",
       "      <td>1280000.0</td>\n",
       "      <td>0.0752</td>\n",
       "    </tr>\n",
       "    <tr>\n",
       "      <th>1</th>\n",
       "      <td>Supreme Industries Ltd</td>\n",
       "      <td>Plastic</td>\n",
       "      <td>2023-11-29</td>\n",
       "      <td>4121.30</td>\n",
       "      <td>4140.00</td>\n",
       "      <td>4237.0</td>\n",
       "      <td>4100.00</td>\n",
       "      <td>180840.0</td>\n",
       "      <td>-0.0005</td>\n",
       "    </tr>\n",
       "    <tr>\n",
       "      <th>2</th>\n",
       "      <td>Supreme Industries Ltd</td>\n",
       "      <td>Plastic</td>\n",
       "      <td>2023-11-28</td>\n",
       "      <td>4123.25</td>\n",
       "      <td>4149.95</td>\n",
       "      <td>4191.2</td>\n",
       "      <td>4074.05</td>\n",
       "      <td>235640.0</td>\n",
       "      <td>-0.0015</td>\n",
       "    </tr>\n",
       "    <tr>\n",
       "      <th>3</th>\n",
       "      <td>Supreme Industries Ltd</td>\n",
       "      <td>Plastic</td>\n",
       "      <td>2023-11-24</td>\n",
       "      <td>4129.25</td>\n",
       "      <td>4055.05</td>\n",
       "      <td>4165.2</td>\n",
       "      <td>4036.00</td>\n",
       "      <td>143210.0</td>\n",
       "      <td>0.0044</td>\n",
       "    </tr>\n",
       "    <tr>\n",
       "      <th>4</th>\n",
       "      <td>Supreme Industries Ltd</td>\n",
       "      <td>Plastic</td>\n",
       "      <td>2023-11-23</td>\n",
       "      <td>4111.05</td>\n",
       "      <td>4100.00</td>\n",
       "      <td>4130.0</td>\n",
       "      <td>4080.05</td>\n",
       "      <td>56110.0</td>\n",
       "      <td>0.0077</td>\n",
       "    </tr>\n",
       "  </tbody>\n",
       "</table>\n",
       "</div>"
      ],
      "text/plain": [
       "             Company Name  Industry       Date    Price     Open    High  \\\n",
       "0  Supreme Industries Ltd  Plastic  2023-11-30  4431.15  4109.80  4593.9   \n",
       "1  Supreme Industries Ltd  Plastic  2023-11-29  4121.30  4140.00  4237.0   \n",
       "2  Supreme Industries Ltd  Plastic  2023-11-28  4123.25  4149.95  4191.2   \n",
       "3  Supreme Industries Ltd  Plastic  2023-11-24  4129.25  4055.05  4165.2   \n",
       "4  Supreme Industries Ltd  Plastic  2023-11-23  4111.05  4100.00  4130.0   \n",
       "\n",
       "       Low     Volume    Chg%  \n",
       "0  4089.00  1280000.0  0.0752  \n",
       "1  4100.00   180840.0 -0.0005  \n",
       "2  4074.05   235640.0 -0.0015  \n",
       "3  4036.00   143210.0  0.0044  \n",
       "4  4080.05    56110.0  0.0077  "
      ]
     },
     "execution_count": 9,
     "metadata": {},
     "output_type": "execute_result"
    }
   ],
   "source": [
    "data.head()"
   ]
  },
  {
   "cell_type": "code",
   "execution_count": 10,
   "id": "6dc49d11",
   "metadata": {},
   "outputs": [
    {
     "data": {
      "text/plain": [
       "array(['Supreme Industries Ltd', 'Nilkamal',\n",
       "       'Jain Irrigation Systems Ltd', 'Finolex Industries Ltd. ',\n",
       "       'Astral Ltd'], dtype=object)"
      ]
     },
     "execution_count": 10,
     "metadata": {},
     "output_type": "execute_result"
    }
   ],
   "source": [
    "data['Company Name'].unique()"
   ]
  },
  {
   "cell_type": "code",
   "execution_count": 11,
   "id": "f77b7758",
   "metadata": {},
   "outputs": [],
   "source": [
    "#Removing dot from company Name\n",
    "data['Company Name'] = data['Company Name'].apply(lambda x: x.replace('.', ''))"
   ]
  },
  {
   "cell_type": "code",
   "execution_count": 12,
   "id": "4a4d0723",
   "metadata": {},
   "outputs": [
    {
     "data": {
      "text/html": [
       "<div>\n",
       "<style scoped>\n",
       "    .dataframe tbody tr th:only-of-type {\n",
       "        vertical-align: middle;\n",
       "    }\n",
       "\n",
       "    .dataframe tbody tr th {\n",
       "        vertical-align: top;\n",
       "    }\n",
       "\n",
       "    .dataframe thead th {\n",
       "        text-align: right;\n",
       "    }\n",
       "</style>\n",
       "<table border=\"1\" class=\"dataframe\">\n",
       "  <thead>\n",
       "    <tr style=\"text-align: right;\">\n",
       "      <th></th>\n",
       "      <th>Company Name</th>\n",
       "      <th>Industry</th>\n",
       "      <th>Date</th>\n",
       "      <th>Price</th>\n",
       "      <th>Open</th>\n",
       "      <th>High</th>\n",
       "      <th>Low</th>\n",
       "      <th>Volume</th>\n",
       "      <th>Chg%</th>\n",
       "    </tr>\n",
       "  </thead>\n",
       "  <tbody>\n",
       "    <tr>\n",
       "      <th>0</th>\n",
       "      <td>Supreme Industries Ltd</td>\n",
       "      <td>Plastic</td>\n",
       "      <td>2023-11-30</td>\n",
       "      <td>4431.15</td>\n",
       "      <td>4109.80</td>\n",
       "      <td>4593.9</td>\n",
       "      <td>4089.00</td>\n",
       "      <td>1280000.0</td>\n",
       "      <td>0.0752</td>\n",
       "    </tr>\n",
       "    <tr>\n",
       "      <th>1</th>\n",
       "      <td>Supreme Industries Ltd</td>\n",
       "      <td>Plastic</td>\n",
       "      <td>2023-11-29</td>\n",
       "      <td>4121.30</td>\n",
       "      <td>4140.00</td>\n",
       "      <td>4237.0</td>\n",
       "      <td>4100.00</td>\n",
       "      <td>180840.0</td>\n",
       "      <td>-0.0005</td>\n",
       "    </tr>\n",
       "    <tr>\n",
       "      <th>2</th>\n",
       "      <td>Supreme Industries Ltd</td>\n",
       "      <td>Plastic</td>\n",
       "      <td>2023-11-28</td>\n",
       "      <td>4123.25</td>\n",
       "      <td>4149.95</td>\n",
       "      <td>4191.2</td>\n",
       "      <td>4074.05</td>\n",
       "      <td>235640.0</td>\n",
       "      <td>-0.0015</td>\n",
       "    </tr>\n",
       "    <tr>\n",
       "      <th>3</th>\n",
       "      <td>Supreme Industries Ltd</td>\n",
       "      <td>Plastic</td>\n",
       "      <td>2023-11-24</td>\n",
       "      <td>4129.25</td>\n",
       "      <td>4055.05</td>\n",
       "      <td>4165.2</td>\n",
       "      <td>4036.00</td>\n",
       "      <td>143210.0</td>\n",
       "      <td>0.0044</td>\n",
       "    </tr>\n",
       "    <tr>\n",
       "      <th>4</th>\n",
       "      <td>Supreme Industries Ltd</td>\n",
       "      <td>Plastic</td>\n",
       "      <td>2023-11-23</td>\n",
       "      <td>4111.05</td>\n",
       "      <td>4100.00</td>\n",
       "      <td>4130.0</td>\n",
       "      <td>4080.05</td>\n",
       "      <td>56110.0</td>\n",
       "      <td>0.0077</td>\n",
       "    </tr>\n",
       "  </tbody>\n",
       "</table>\n",
       "</div>"
      ],
      "text/plain": [
       "             Company Name  Industry       Date    Price     Open    High  \\\n",
       "0  Supreme Industries Ltd  Plastic  2023-11-30  4431.15  4109.80  4593.9   \n",
       "1  Supreme Industries Ltd  Plastic  2023-11-29  4121.30  4140.00  4237.0   \n",
       "2  Supreme Industries Ltd  Plastic  2023-11-28  4123.25  4149.95  4191.2   \n",
       "3  Supreme Industries Ltd  Plastic  2023-11-24  4129.25  4055.05  4165.2   \n",
       "4  Supreme Industries Ltd  Plastic  2023-11-23  4111.05  4100.00  4130.0   \n",
       "\n",
       "       Low     Volume    Chg%  \n",
       "0  4089.00  1280000.0  0.0752  \n",
       "1  4100.00   180840.0 -0.0005  \n",
       "2  4074.05   235640.0 -0.0015  \n",
       "3  4036.00   143210.0  0.0044  \n",
       "4  4080.05    56110.0  0.0077  "
      ]
     },
     "execution_count": 12,
     "metadata": {},
     "output_type": "execute_result"
    }
   ],
   "source": [
    "#all clean Data\n",
    "data.head()"
   ]
  },
  {
   "cell_type": "code",
   "execution_count": 13,
   "id": "471c57dc",
   "metadata": {},
   "outputs": [],
   "source": [
    "#Creating groups to perform operations group wise\n",
    "data_groups = data.groupby(by=[\"Company Name\"])\n",
    "\n",
    "data_SupremeIndustriesLtd = data_groups.get_group(\"Supreme Industries Ltd\") \n",
    "data_AstralLtd = data_groups.get_group(\"Astral Ltd\") \n",
    "data_FinolexIndustriesLtd = data_groups.get_group(\"Finolex Industries Ltd \") \n",
    "data_JainIrrigationSystemsLtd = data_groups.get_group(\"Jain Irrigation Systems Ltd\") \n",
    "data_Nilkamal = data_groups.get_group(\"Nilkamal\") "
   ]
  },
  {
   "cell_type": "code",
   "execution_count": 14,
   "id": "72fa8f4d",
   "metadata": {},
   "outputs": [],
   "source": [
    "#Function to calculate RSI\n",
    "def calculate_rsi(data, period=14):\n",
    "    delta = data['Price'].diff(1)\n",
    "    \n",
    "    gains = delta.where(delta > 0, 0)\n",
    "    losses = -delta.where(delta < 0, 0)\n",
    "    \n",
    "    avg_gains = gains.rolling(window=period, min_periods=14).mean()\n",
    "    avg_losses = losses.rolling(window=period, min_periods=14).mean()\n",
    "    \n",
    "    rs = avg_gains / avg_losses\n",
    "    rsi = 100 - (100 / (1 + rs))\n",
    "    return rsi"
   ]
  },
  {
   "cell_type": "code",
   "execution_count": 15,
   "id": "f395aca0",
   "metadata": {},
   "outputs": [],
   "source": [
    "for company_data in [data_SupremeIndustriesLtd, data_AstralLtd, data_FinolexIndustriesLtd, \n",
    "                           data_JainIrrigationSystemsLtd, data_Nilkamal]: company_data['RSI'] = calculate_rsi(company_data)"
   ]
  },
  {
   "cell_type": "code",
   "execution_count": 16,
   "id": "bcede78e",
   "metadata": {},
   "outputs": [
    {
     "data": {
      "text/html": [
       "<div>\n",
       "<style scoped>\n",
       "    .dataframe tbody tr th:only-of-type {\n",
       "        vertical-align: middle;\n",
       "    }\n",
       "\n",
       "    .dataframe tbody tr th {\n",
       "        vertical-align: top;\n",
       "    }\n",
       "\n",
       "    .dataframe thead th {\n",
       "        text-align: right;\n",
       "    }\n",
       "</style>\n",
       "<table border=\"1\" class=\"dataframe\">\n",
       "  <thead>\n",
       "    <tr style=\"text-align: right;\">\n",
       "      <th></th>\n",
       "      <th>Company Name</th>\n",
       "      <th>Industry</th>\n",
       "      <th>Date</th>\n",
       "      <th>Price</th>\n",
       "      <th>Open</th>\n",
       "      <th>High</th>\n",
       "      <th>Low</th>\n",
       "      <th>Volume</th>\n",
       "      <th>Chg%</th>\n",
       "      <th>RSI</th>\n",
       "    </tr>\n",
       "  </thead>\n",
       "  <tbody>\n",
       "    <tr>\n",
       "      <th>0</th>\n",
       "      <td>Supreme Industries Ltd</td>\n",
       "      <td>Plastic</td>\n",
       "      <td>2023-11-30</td>\n",
       "      <td>4431.15</td>\n",
       "      <td>4109.80</td>\n",
       "      <td>4593.9</td>\n",
       "      <td>4089.00</td>\n",
       "      <td>1280000.0</td>\n",
       "      <td>0.0752</td>\n",
       "      <td>NaN</td>\n",
       "    </tr>\n",
       "    <tr>\n",
       "      <th>1</th>\n",
       "      <td>Supreme Industries Ltd</td>\n",
       "      <td>Plastic</td>\n",
       "      <td>2023-11-29</td>\n",
       "      <td>4121.30</td>\n",
       "      <td>4140.00</td>\n",
       "      <td>4237.0</td>\n",
       "      <td>4100.00</td>\n",
       "      <td>180840.0</td>\n",
       "      <td>-0.0005</td>\n",
       "      <td>NaN</td>\n",
       "    </tr>\n",
       "    <tr>\n",
       "      <th>2</th>\n",
       "      <td>Supreme Industries Ltd</td>\n",
       "      <td>Plastic</td>\n",
       "      <td>2023-11-28</td>\n",
       "      <td>4123.25</td>\n",
       "      <td>4149.95</td>\n",
       "      <td>4191.2</td>\n",
       "      <td>4074.05</td>\n",
       "      <td>235640.0</td>\n",
       "      <td>-0.0015</td>\n",
       "      <td>NaN</td>\n",
       "    </tr>\n",
       "    <tr>\n",
       "      <th>3</th>\n",
       "      <td>Supreme Industries Ltd</td>\n",
       "      <td>Plastic</td>\n",
       "      <td>2023-11-24</td>\n",
       "      <td>4129.25</td>\n",
       "      <td>4055.05</td>\n",
       "      <td>4165.2</td>\n",
       "      <td>4036.00</td>\n",
       "      <td>143210.0</td>\n",
       "      <td>0.0044</td>\n",
       "      <td>NaN</td>\n",
       "    </tr>\n",
       "    <tr>\n",
       "      <th>4</th>\n",
       "      <td>Supreme Industries Ltd</td>\n",
       "      <td>Plastic</td>\n",
       "      <td>2023-11-23</td>\n",
       "      <td>4111.05</td>\n",
       "      <td>4100.00</td>\n",
       "      <td>4130.0</td>\n",
       "      <td>4080.05</td>\n",
       "      <td>56110.0</td>\n",
       "      <td>0.0077</td>\n",
       "      <td>NaN</td>\n",
       "    </tr>\n",
       "  </tbody>\n",
       "</table>\n",
       "</div>"
      ],
      "text/plain": [
       "             Company Name  Industry       Date    Price     Open    High  \\\n",
       "0  Supreme Industries Ltd  Plastic  2023-11-30  4431.15  4109.80  4593.9   \n",
       "1  Supreme Industries Ltd  Plastic  2023-11-29  4121.30  4140.00  4237.0   \n",
       "2  Supreme Industries Ltd  Plastic  2023-11-28  4123.25  4149.95  4191.2   \n",
       "3  Supreme Industries Ltd  Plastic  2023-11-24  4129.25  4055.05  4165.2   \n",
       "4  Supreme Industries Ltd  Plastic  2023-11-23  4111.05  4100.00  4130.0   \n",
       "\n",
       "       Low     Volume    Chg%  RSI  \n",
       "0  4089.00  1280000.0  0.0752  NaN  \n",
       "1  4100.00   180840.0 -0.0005  NaN  \n",
       "2  4074.05   235640.0 -0.0015  NaN  \n",
       "3  4036.00   143210.0  0.0044  NaN  \n",
       "4  4080.05    56110.0  0.0077  NaN  "
      ]
     },
     "execution_count": 16,
     "metadata": {},
     "output_type": "execute_result"
    }
   ],
   "source": [
    "data_SupremeIndustriesLtd.head()"
   ]
  },
  {
   "cell_type": "code",
   "execution_count": 17,
   "id": "224bf24b",
   "metadata": {},
   "outputs": [],
   "source": [
    "#Function to calculate SMA\n",
    "def calculate_sma(data, column_name='Price', window=50):\n",
    "    data['SMA50'] = data[column_name].rolling(window=window, min_periods=50).mean()\n",
    "    \n",
    "    # Find the index of the last NaN value in 'SMA50'\n",
    "    last_nan_index = data['SMA50'].last_valid_index()\n",
    "    \n",
    "    # Replace NaN values in 'SMA50' column with the average from the last NaN value\n",
    "    if last_nan_index is not None:\n",
    "        data['SMA50'] = data['SMA50'].fillna(data['SMA50'].loc[last_nan_index:].expanding().mean())\n",
    "    \n",
    "    return data"
   ]
  },
  {
   "cell_type": "code",
   "execution_count": 18,
   "id": "33dfb5db",
   "metadata": {
    "scrolled": false
   },
   "outputs": [],
   "source": [
    "for company_data in [data_SupremeIndustriesLtd, data_AstralLtd, data_FinolexIndustriesLtd,\n",
    "                         data_JainIrrigationSystemsLtd, data_Nilkamal]: company_data = calculate_sma(company_data)"
   ]
  },
  {
   "cell_type": "markdown",
   "id": "8f987ef6",
   "metadata": {},
   "source": [
    "## Outliers"
   ]
  },
  {
   "cell_type": "code",
   "execution_count": 19,
   "id": "3bf18a67",
   "metadata": {},
   "outputs": [
    {
     "data": {
      "image/png": "[encoded data removed]",
      "text/plain": [
       "<Figure size 640x480 with 1 Axes>"
      ]
     },
     "metadata": {},
     "output_type": "display_data"
    }
   ],
   "source": [
    "plt.boxplot(data_SupremeIndustriesLtd['Volume'])\n",
    "plt.title('Supreme Industries Ltd')\n",
    "plt.show()"
   ]
  },
  {
   "cell_type": "code",
   "execution_count": 20,
   "id": "3ae6e13b",
   "metadata": {},
   "outputs": [
    {
     "data": {
      "image/png": "[encoded data removed]",
      "text/plain": [
       "<Figure size 640x480 with 1 Axes>"
      ]
     },
     "metadata": {},
     "output_type": "display_data"
    }
   ],
   "source": [
    "plt.boxplot(data_AstralLtd['Volume'])\n",
    "plt.title('Astral Ltd')\n",
    "plt.show()"
   ]
  },
  {
   "cell_type": "code",
   "execution_count": 21,
   "id": "a85bf2f5",
   "metadata": {},
   "outputs": [
    {
     "data": {
      "image/png": "[encoded data removed]",
      "text/plain": [
       "<Figure size 640x480 with 1 Axes>"
      ]
     },
     "metadata": {},
     "output_type": "display_data"
    }
   ],
   "source": [
    "plt.boxplot(data_FinolexIndustriesLtd ['Volume'])\n",
    "plt.title('Finolex Industries Ltd')\n",
    "plt.show()"
   ]
  },
  {
   "cell_type": "code",
   "execution_count": 22,
   "id": "baace0d9",
   "metadata": {},
   "outputs": [
    {
     "data": {
      "image/png": "[encoded data removed]",
      "text/plain": [
       "<Figure size 640x480 with 1 Axes>"
      ]
     },
     "metadata": {},
     "output_type": "display_data"
    }
   ],
   "source": [
    "plt.boxplot(data_JainIrrigationSystemsLtd['Volume'])\n",
    "plt.title('Jain Irrigation Systems Ltd')\n",
    "plt.show()"
   ]
  },
  {
   "cell_type": "code",
   "execution_count": 23,
   "id": "ea4daf1f",
   "metadata": {
    "scrolled": false
   },
   "outputs": [
    {
     "data": {
      "image/png": "[encoded data removed]",
      "text/plain": [
       "<Figure size 640x480 with 1 Axes>"
      ]
     },
     "metadata": {},
     "output_type": "display_data"
    }
   ],
   "source": [
    "plt.boxplot(data_Nilkamal['Volume'])\n",
    "plt.title('Nilkamal')\n",
    "plt.show()"
   ]
  },
  {
   "cell_type": "code",
   "execution_count": 24,
   "id": "bf5aad26",
   "metadata": {},
   "outputs": [],
   "source": [
    "#after removing outliers merging all Company data\n",
    "data2 = pd.concat([data_SupremeIndustriesLtd, data_AstralLtd, \n",
    "                  data_FinolexIndustriesLtd, data_JainIrrigationSystemsLtd, data_Nilkamal])"
   ]
  },
  {
   "cell_type": "code",
   "execution_count": 25,
   "id": "07b68a7c",
   "metadata": {
    "scrolled": false
   },
   "outputs": [
    {
     "name": "stdout",
     "output_type": "stream",
     "text": [
      "<class 'pandas.core.frame.DataFrame'>\n",
      "Index: 9796 entries, 0 to 3917\n",
      "Data columns (total 11 columns):\n",
      " #   Column        Non-Null Count  Dtype         \n",
      "---  ------        --------------  -----         \n",
      " 0   Company Name  9796 non-null   object        \n",
      " 1   Industry      9796 non-null   object        \n",
      " 2   Date          9786 non-null   datetime64[ns]\n",
      " 3   Price         9796 non-null   float64       \n",
      " 4   Open          9796 non-null   float64       \n",
      " 5   High          9796 non-null   float64       \n",
      " 6   Low           9796 non-null   float64       \n",
      " 7   Volume        9792 non-null   float64       \n",
      " 8   Chg%          9796 non-null   float64       \n",
      " 9   RSI           9731 non-null   float64       \n",
      " 10  SMA50         9551 non-null   float64       \n",
      "dtypes: datetime64[ns](1), float64(8), object(2)\n",
      "memory usage: 918.4+ KB\n"
     ]
    }
   ],
   "source": [
    "data2.info()"
   ]
  },
  {
   "cell_type": "code",
   "execution_count": 27,
   "id": "4c5eac33",
   "metadata": {},
   "outputs": [],
   "source": [
    "#data2 = data2.dropna(axis=0)"
   ]
  },
  {
   "cell_type": "code",
   "execution_count": 29,
   "id": "70c4de0e",
   "metadata": {},
   "outputs": [
    {
     "data": {
      "text/html": [
       "<div>\n",
       "<style scoped>\n",
       "    .dataframe tbody tr th:only-of-type {\n",
       "        vertical-align: middle;\n",
       "    }\n",
       "\n",
       "    .dataframe tbody tr th {\n",
       "        vertical-align: top;\n",
       "    }\n",
       "\n",
       "    .dataframe thead th {\n",
       "        text-align: right;\n",
       "    }\n",
       "</style>\n",
       "<table border=\"1\" class=\"dataframe\">\n",
       "  <thead>\n",
       "    <tr style=\"text-align: right;\">\n",
       "      <th></th>\n",
       "      <th>Company Name</th>\n",
       "      <th>Industry</th>\n",
       "      <th>Date</th>\n",
       "      <th>Price</th>\n",
       "      <th>Open</th>\n",
       "      <th>High</th>\n",
       "      <th>Low</th>\n",
       "      <th>Volume</th>\n",
       "      <th>Chg%</th>\n",
       "      <th>RSI</th>\n",
       "      <th>SMA50</th>\n",
       "    </tr>\n",
       "  </thead>\n",
       "  <tbody>\n",
       "    <tr>\n",
       "      <th>0</th>\n",
       "      <td>Supreme Industries Ltd</td>\n",
       "      <td>Plastic</td>\n",
       "      <td>2023-11-30</td>\n",
       "      <td>4431.15</td>\n",
       "      <td>4109.8</td>\n",
       "      <td>4593.9</td>\n",
       "      <td>4089.0</td>\n",
       "      <td>1280000.0</td>\n",
       "      <td>0.0752</td>\n",
       "      <td>NaN</td>\n",
       "      <td>NaN</td>\n",
       "    </tr>\n",
       "    <tr>\n",
       "      <th>1</th>\n",
       "      <td>Supreme Industries Ltd</td>\n",
       "      <td>Plastic</td>\n",
       "      <td>2023-11-29</td>\n",
       "      <td>4121.30</td>\n",
       "      <td>4140.0</td>\n",
       "      <td>4237.0</td>\n",
       "      <td>4100.0</td>\n",
       "      <td>180840.0</td>\n",
       "      <td>-0.0005</td>\n",
       "      <td>NaN</td>\n",
       "      <td>NaN</td>\n",
       "    </tr>\n",
       "  </tbody>\n",
       "</table>\n",
       "</div>"
      ],
      "text/plain": [
       "             Company Name  Industry       Date    Price    Open    High  \\\n",
       "0  Supreme Industries Ltd  Plastic  2023-11-30  4431.15  4109.8  4593.9   \n",
       "1  Supreme Industries Ltd  Plastic  2023-11-29  4121.30  4140.0  4237.0   \n",
       "\n",
       "      Low     Volume    Chg%  RSI  SMA50  \n",
       "0  4089.0  1280000.0  0.0752  NaN    NaN  \n",
       "1  4100.0   180840.0 -0.0005  NaN    NaN  "
      ]
     },
     "execution_count": 29,
     "metadata": {},
     "output_type": "execute_result"
    }
   ],
   "source": [
    "data2.head(2)"
   ]
  },
  {
   "cell_type": "code",
   "execution_count": 31,
   "id": "c728fae1",
   "metadata": {},
   "outputs": [],
   "source": [
    "#data2.to_excel('Plastic-Sector-II.xlsx', index=False)"
   ]
  },
  {
   "cell_type": "code",
   "execution_count": null,
   "id": "ceaac3ab",
   "metadata": {},
   "outputs": [],
   "source": []
  }
 ],
 "metadata": {
  "kernelspec": {
   "display_name": "Python 3 (ipykernel)",
   "language": "python",
   "name": "python3"
  },
  "language_info": {
   "codemirror_mode": {
    "name": "ipython",
    "version": 3
   },
   "file_extension": ".py",
   "mimetype": "text/x-python",
   "name": "python",
   "nbconvert_exporter": "python",
   "pygments_lexer": "ipython3",
   "version": "3.11.5"
  }
 },
 "nbformat": 4,
 "nbformat_minor": 5
}
